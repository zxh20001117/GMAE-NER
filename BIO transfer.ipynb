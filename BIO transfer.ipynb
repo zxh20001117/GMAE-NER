{
 "cells": [
  {
   "cell_type": "code",
   "execution_count": 1,
   "id": "129de0d5-2fbc-492b-99a5-69fc4f070cc2",
   "metadata": {},
   "outputs": [],
   "source": [
    "import json"
   ]
  },
  {
   "cell_type": "code",
   "execution_count": 22,
   "id": "4f8e9eed-c0d3-4e6b-92fe-0e1739fd5b52",
   "metadata": {},
   "outputs": [],
   "source": [
    "file_name = 'weibo'"
   ]
  },
  {
   "cell_type": "code",
   "execution_count": 24,
   "id": "9f01faed-21de-4b1f-a861-9930790931b4",
   "metadata": {},
   "outputs": [],
   "source": [
    "def load_data(file, type):\n",
    "    sentences, BIOS = [], []\n",
    "    with open(f\"data/{file}/{file}NER.{type}.txt\", 'r', encoding = 'UTF-8') as f:\n",
    "        sentence, BIO = [], []\n",
    "        for line in f:\n",
    "            line = line.strip()\n",
    "            if line == \"\":\n",
    "                if len(BIO)<=400:\n",
    "                    sentences.append(sentence)\n",
    "                    BIOS.append(BIO)\n",
    "                sentence, BIO = [], []\n",
    "                continue\n",
    "            word, tag = line.split()\n",
    "            sentence.append(word)\n",
    "            BIO.append(tag)\n",
    "    return sentences ,BIOS"
   ]
  },
  {
   "cell_type": "code",
   "execution_count": 27,
   "id": "cf8d3b85-30ac-4713-800e-515b6a98ce2a",
   "metadata": {},
   "outputs": [
    {
     "name": "stdout",
     "output_type": "stream",
     "text": [
      "1350 1350\n"
     ]
    }
   ],
   "source": [
    "print(len(sentences), len(BIOS))"
   ]
  },
  {
   "cell_type": "code",
   "execution_count": 25,
   "id": "a3d2d0ac-0e49-4b52-960d-4639bfe3c85b",
   "metadata": {},
   "outputs": [],
   "source": [
    "def BIO2W2NER(sentence, BIOS):\n",
    "    length = len(BIOS)\n",
    "    res = []\n",
    "    for i in range(length):\n",
    "        if 'B-' in BIOS[i]:\n",
    "            res.append({'index':[i], 'type':BIOS[i].split('-')[-1]})\n",
    "        elif 'I-' in BIOS[i]:\n",
    "            if len(res) == 0:\n",
    "                print(sentence, BIOS)\n",
    "            res[-1]['index'].append(i)\n",
    "    return res\n",
    "    \n",
    "def transBIO2W2NER(sentences, BIOS):\n",
    "    res = []\n",
    "    length = len(sentences)\n",
    "    for i in range(length):\n",
    "        temp_dic = {\"sentence\": sentences[i], \"ner\": BIO2W2NER(sentences[i], BIOS[i])}\n",
    "        res.append(temp_dic)\n",
    "    return res"
   ]
  },
  {
   "cell_type": "code",
   "execution_count": 28,
   "id": "b7f4d284-6664-48d7-90b1-6c1174251eb3",
   "metadata": {},
   "outputs": [],
   "source": [
    "sentences, BIOS = load_data(file_name, 'train')\n",
    "train_data = transBIO2W2NER(sentences, BIOS)\n",
    "\n",
    "sentences, BIOS = load_data(file_name, 'test')\n",
    "test_data = transBIO2W2NER(sentences, BIOS)"
   ]
  },
  {
   "cell_type": "code",
   "execution_count": 29,
   "id": "b5affd25-7a2e-44d5-b03c-ea4ceeeea928",
   "metadata": {},
   "outputs": [],
   "source": [
    "sentences, BIOS = load_data(file_name, 'dev')\n",
    "dev_data = transBIO2W2NER(sentences, BIOS)"
   ]
  },
  {
   "cell_type": "code",
   "execution_count": 30,
   "id": "9562b815-5606-45de-b8cf-aaac877fa396",
   "metadata": {},
   "outputs": [],
   "source": [
    "with open(f\"./data/{file_name}/train.json\", 'w', encoding = 'utf-8') as f:\n",
    "    json.dump(train_data, f, indent = 4)\n",
    "\n",
    "with open(f\"./data/{file_name}/test.json\", 'w', encoding = 'utf-8') as f:\n",
    "    json.dump(test_data, f, indent = 4)"
   ]
  },
  {
   "cell_type": "code",
   "execution_count": 31,
   "id": "2a48340d-0998-4779-a97f-e89af3e7064a",
   "metadata": {},
   "outputs": [],
   "source": [
    "with open(f\"./data/{file_name}/dev.json\", 'w', encoding = 'utf-8') as f:\n",
    "    json.dump(dev_data, f, indent = 4)"
   ]
  },
  {
   "cell_type": "markdown",
   "id": "d94f3d2d-3f03-49c7-9aeb-369a1a1e9709",
   "metadata": {},
   "source": [
    "# BIO json格式数据"
   ]
  },
  {
   "cell_type": "code",
   "execution_count": 39,
   "id": "64324150-37a4-4b8b-aeae-00fcc2353d71",
   "metadata": {},
   "outputs": [
    {
     "name": "stdout",
     "output_type": "stream",
     "text": [
      "1349 1349\n",
      "269 269\n",
      "269 269\n",
      "1887\n"
     ]
    }
   ],
   "source": [
    "import pandas as pd\n",
    "def loadBIOdata(file, type):\n",
    "    sentences, BIOs = [], []\n",
    "    with open(f\"data/{file}/{file}NER.{type}.txt\", 'r', encoding = 'UTF-8') as f:\n",
    "        sentence, BIO = [], []\n",
    "        for line in f:\n",
    "            if line == '\\n':\n",
    "                sentences.append(''.join(sentence))\n",
    "                BIOs.append(BIO.copy())\n",
    "                if len(sentence) != len(BIO):print(sentence, BIO)\n",
    "                sentence, BIO = [], []\n",
    "            else:\n",
    "                temp = line.strip().split()\n",
    "                sentence.append(temp[0])\n",
    "                BIO.append(temp[1])\n",
    "    print(len(sentences), len(BIOs))\n",
    "    df = pd.DataFrame()\n",
    "    df['text'] = sentences\n",
    "    df['BIO_anno'] = BIOs\n",
    "    df.to_json(f\"data/{file}/{type}.json\", orient='records', lines=True)\n",
    "    return df\n",
    "    \n",
    "def generateBIOjson(file):\n",
    "    types = ['train', 'test', 'dev']\n",
    "    dfs = []\n",
    "    for type in types:\n",
    "        dfs.append(loadBIOdata(file, type))\n",
    "    data = pd.concat(dfs, axis = 0).reset_index(drop=True)\n",
    "    print(len(data))\n",
    "    data.to_json(f\"data/{file}/sample.json\")\n",
    "\n",
    "generateBIOjson('weibo')\n",
    "    \n",
    "    "
   ]
  },
  {
   "cell_type": "code",
   "execution_count": 1,
   "id": "fbd08664-bddf-49a2-84d9-b9be8e4a99be",
   "metadata": {},
   "outputs": [],
   "source": [
    "import numpy as np\n",
    "vocab_dict = np.load('data/pingyin_vocab.npy', allow_pickle=True).item()"
   ]
  },
  {
   "cell_type": "code",
   "execution_count": 9,
   "id": "4948c35c-88d9-4579-b498-2cb4aab24871",
   "metadata": {},
   "outputs": [
    {
     "name": "stdout",
     "output_type": "stream",
     "text": [
      "{'yinjie': ['b', 'p', 'm', 'f', 'd', 't', 'n', 'l', 'g', 'k', 'h', 'j', 'q', 'x', 'zh', 'ch', 'sh', 'r', 'y', 'c', 's', 'y', 'w', 'a', 'o', 'e', 'i', 'u', 'v', 'ai', 'ei', 'ui', 'ao', 'ou', 'iu', 'ie', 've', 'er', 'an', 'en', 'in', 'un', 'vn', 'ang', 'eng', 'ing', 'ong', 'ia', 'ua', 'uo', 'uai', 'iao', 'ian', 'iang', 'uan', 'uang', 'iong', 'van', 'ueng', 'uen', 'uei', '0', '1', '2', '3', '4']}\n"
     ]
    }
   ],
   "source": [
    "print(vocab_dict)"
   ]
  },
  {
   "cell_type": "code",
   "execution_count": 11,
   "id": "9f90f9fd-ddd4-43d3-a3c6-5b4ec2484909",
   "metadata": {},
   "outputs": [
    {
     "data": {
      "text/plain": [
       "38"
      ]
     },
     "execution_count": 11,
     "metadata": {},
     "output_type": "execute_result"
    }
   ],
   "source": [
    "len(['a', 'o', 'e', 'i', 'u', 'v', 'ai', 'ei', 'ui', 'ao', 'ou', 'iu', 'ie', 've', 'er', 'an', 'en', 'in', 'un', 'vn', 'ang', 'eng', 'ing', 'ong', 'ia', 'ua', 'uo', 'uai', 'iao', 'ian', 'iang', 'uan', 'uang', 'iong', 'van', 'ueng', 'uen', 'uei'])"
   ]
  }
 ],
 "metadata": {
  "kernelspec": {
   "display_name": "Python 3 (ipykernel)",
   "language": "python",
   "name": "python3"
  },
  "language_info": {
   "codemirror_mode": {
    "name": "ipython",
    "version": 3
   },
   "file_extension": ".py",
   "mimetype": "text/x-python",
   "name": "python",
   "nbconvert_exporter": "python",
   "pygments_lexer": "ipython3",
   "version": "3.8.8"
  }
 },
 "nbformat": 4,
 "nbformat_minor": 5
}
